{
 "cells": [
  {
   "cell_type": "code",
   "execution_count": 6,
   "metadata": {},
   "outputs": [],
   "source": [
    "import numpy as np\n",
    "import pandas as pd\n"
   ]
  },
  {
   "cell_type": "markdown",
   "metadata": {},
   "source": [
    "**ARQUIVO 1**"
   ]
  },
  {
   "cell_type": "code",
   "execution_count": 7,
   "metadata": {},
   "outputs": [],
   "source": [
    "# w_data.csv\n",
    "\n",
    "dfw = pd.read_csv('w_data.csv',\n",
    "                  sep=';',\n",
    "                  encoding='latin-1',\n",
    "                  low_memory=False,\n",
    "                  dtype='unicode',\n",
    "                  usecols = ['Workclass', 'fnlwgt', 'Capital Gain', 'Capital Loss', 'Hours per week', 'ID', 'Target'])\n",
    "\n",
    "# sep - separador de colunas\n",
    "# encoding - tipo de codificação - neste caso, latin-1\n",
    "# low_memory - para evitar warnings\n",
    "# index_col - coluna de índice (não é necessário)\n",
    "# dtype - tipo de dado de cada coluna, neste caso - unicode \n",
    "# usecols - colunas que serão utilizadas\n"
   ]
  },
  {
   "cell_type": "code",
   "execution_count": 8,
   "metadata": {},
   "outputs": [
    {
     "data": {
      "text/html": [
       "<div>\n",
       "<style scoped>\n",
       "    .dataframe tbody tr th:only-of-type {\n",
       "        vertical-align: middle;\n",
       "    }\n",
       "\n",
       "    .dataframe tbody tr th {\n",
       "        vertical-align: top;\n",
       "    }\n",
       "\n",
       "    .dataframe thead th {\n",
       "        text-align: right;\n",
       "    }\n",
       "</style>\n",
       "<table border=\"1\" class=\"dataframe\">\n",
       "  <thead>\n",
       "    <tr style=\"text-align: right;\">\n",
       "      <th></th>\n",
       "      <th>Workclass</th>\n",
       "      <th>fnlwgt</th>\n",
       "      <th>Capital Gain</th>\n",
       "      <th>Capital Loss</th>\n",
       "      <th>Hours per week</th>\n",
       "      <th>ID</th>\n",
       "      <th>Target</th>\n",
       "    </tr>\n",
       "  </thead>\n",
       "  <tbody>\n",
       "    <tr>\n",
       "      <th>0</th>\n",
       "      <td>State-gov</td>\n",
       "      <td>77516.0</td>\n",
       "      <td>2174.0</td>\n",
       "      <td>0.0</td>\n",
       "      <td>40.0</td>\n",
       "      <td>49084</td>\n",
       "      <td>&lt;=50K</td>\n",
       "    </tr>\n",
       "    <tr>\n",
       "      <th>1</th>\n",
       "      <td>Self-emp-not-inc</td>\n",
       "      <td>83311.0</td>\n",
       "      <td>0.0</td>\n",
       "      <td>0.0</td>\n",
       "      <td>13.0</td>\n",
       "      <td>68553</td>\n",
       "      <td>&lt;=50K</td>\n",
       "    </tr>\n",
       "    <tr>\n",
       "      <th>2</th>\n",
       "      <td>Private</td>\n",
       "      <td>215646.0</td>\n",
       "      <td>0.0</td>\n",
       "      <td>0.0</td>\n",
       "      <td>40.0</td>\n",
       "      <td>143654</td>\n",
       "      <td>&lt;=50K</td>\n",
       "    </tr>\n",
       "    <tr>\n",
       "      <th>3</th>\n",
       "      <td>Private</td>\n",
       "      <td>234721.0</td>\n",
       "      <td>0.0</td>\n",
       "      <td>0.0</td>\n",
       "      <td>40.0</td>\n",
       "      <td>41510</td>\n",
       "      <td>&lt;=50K</td>\n",
       "    </tr>\n",
       "    <tr>\n",
       "      <th>4</th>\n",
       "      <td>Private</td>\n",
       "      <td>338409.0</td>\n",
       "      <td>0.0</td>\n",
       "      <td>0.0</td>\n",
       "      <td>40.0</td>\n",
       "      <td>195025</td>\n",
       "      <td>&lt;=50K</td>\n",
       "    </tr>\n",
       "  </tbody>\n",
       "</table>\n",
       "</div>"
      ],
      "text/plain": [
       "           Workclass    fnlwgt Capital Gain Capital Loss Hours per week  \\\n",
       "0          State-gov   77516.0       2174.0          0.0           40.0   \n",
       "1   Self-emp-not-inc   83311.0          0.0          0.0           13.0   \n",
       "2            Private  215646.0          0.0          0.0           40.0   \n",
       "3            Private  234721.0          0.0          0.0           40.0   \n",
       "4            Private  338409.0          0.0          0.0           40.0   \n",
       "\n",
       "       ID  Target  \n",
       "0   49084   <=50K  \n",
       "1   68553   <=50K  \n",
       "2  143654   <=50K  \n",
       "3   41510   <=50K  \n",
       "4  195025   <=50K  "
      ]
     },
     "execution_count": 8,
     "metadata": {},
     "output_type": "execute_result"
    }
   ],
   "source": [
    "# Visualizando os dados do dfw\n",
    "\n",
    "dfw.head()\n"
   ]
  },
  {
   "cell_type": "code",
   "execution_count": 9,
   "metadata": {},
   "outputs": [
    {
     "name": "stdout",
     "output_type": "stream",
     "text": [
      "<class 'pandas.core.frame.DataFrame'>\n",
      "RangeIndex: 48843 entries, 0 to 48842\n",
      "Data columns (total 7 columns):\n",
      " #   Column          Non-Null Count  Dtype \n",
      "---  ------          --------------  ----- \n",
      " 0   Workclass       48842 non-null  object\n",
      " 1   fnlwgt          48842 non-null  object\n",
      " 2   Capital Gain    48842 non-null  object\n",
      " 3   Capital Loss    48842 non-null  object\n",
      " 4   Hours per week  48842 non-null  object\n",
      " 5   ID              48843 non-null  object\n",
      " 6   Target          48842 non-null  object\n",
      "dtypes: object(7)\n",
      "memory usage: 2.6+ MB\n"
     ]
    }
   ],
   "source": [
    "# Visualizando a qualidade e o tipo dos dados do dfw\n",
    "\n",
    "dfw.info()\n"
   ]
  },
  {
   "cell_type": "code",
   "execution_count": 10,
   "metadata": {},
   "outputs": [
    {
     "data": {
      "text/plain": [
       "(48843, 7)"
      ]
     },
     "execution_count": 10,
     "metadata": {},
     "output_type": "execute_result"
    }
   ],
   "source": [
    "# Qual é o shape do dfw? \n",
    "\n",
    "dfw.shape\n"
   ]
  },
  {
   "cell_type": "code",
   "execution_count": 11,
   "metadata": {},
   "outputs": [
    {
     "data": {
      "text/plain": [
       "Workclass         1\n",
       "fnlwgt            1\n",
       "Capital Gain      1\n",
       "Capital Loss      1\n",
       "Hours per week    1\n",
       "ID                0\n",
       "Target            1\n",
       "dtype: int64"
      ]
     },
     "execution_count": 11,
     "metadata": {},
     "output_type": "execute_result"
    }
   ],
   "source": [
    "# Há valores nulos no dfw?\n",
    "\n",
    "dfw.isnull().sum()\n"
   ]
  },
  {
   "cell_type": "code",
   "execution_count": 12,
   "metadata": {},
   "outputs": [
    {
     "data": {
      "text/plain": [
       "0"
      ]
     },
     "execution_count": 12,
     "metadata": {},
     "output_type": "execute_result"
    }
   ],
   "source": [
    "# Há valores duplicados no dfw?\n",
    "\n",
    "dfw.duplicated().sum()\n"
   ]
  },
  {
   "cell_type": "code",
   "execution_count": 13,
   "metadata": {},
   "outputs": [
    {
     "data": {
      "text/plain": [
       "Workclass             9\n",
       "fnlwgt            28523\n",
       "Capital Gain        123\n",
       "Capital Loss         99\n",
       "Hours per week       96\n",
       "ID                48843\n",
       "Target                4\n",
       "dtype: int64"
      ]
     },
     "execution_count": 13,
     "metadata": {},
     "output_type": "execute_result"
    }
   ],
   "source": [
    "# Quantos valores únicos do dfw?\n",
    "\n",
    "dfw.nunique()\n"
   ]
  },
  {
   "cell_type": "markdown",
   "metadata": {},
   "source": []
  },
  {
   "cell_type": "markdown",
   "metadata": {},
   "source": [
    "**ARQUIVO 2**"
   ]
  },
  {
   "cell_type": "code",
   "execution_count": 15,
   "metadata": {},
   "outputs": [],
   "source": [
    "dfp = pd.read_csv('p_data.csv', \n",
    "                  sep=';', \n",
    "                  encoding='latin-1', \n",
    "                  low_memory=False, \n",
    "                  dtype='unicode', \n",
    "                  usecols = ['Age', 'Sex', 'ID', 'Race', 'Country', 'Education', 'Education-Num', 'Marital Status', 'Relationship'])\n",
    "\n",
    "\n",
    "# sep - separador de colunas\n",
    "# encoding - tipo de codificação - neste caso, latin-1\n",
    "# w_memory - para evitar warnings\n",
    "# dtype - tipo de dado de cada coluna, neste caso - unicode \n",
    "# usecols - colunas que serão utilizadas\n"
   ]
  },
  {
   "cell_type": "code",
   "execution_count": 16,
   "metadata": {},
   "outputs": [
    {
     "data": {
      "text/html": [
       "<div>\n",
       "<style scoped>\n",
       "    .dataframe tbody tr th:only-of-type {\n",
       "        vertical-align: middle;\n",
       "    }\n",
       "\n",
       "    .dataframe tbody tr th {\n",
       "        vertical-align: top;\n",
       "    }\n",
       "\n",
       "    .dataframe thead th {\n",
       "        text-align: right;\n",
       "    }\n",
       "</style>\n",
       "<table border=\"1\" class=\"dataframe\">\n",
       "  <thead>\n",
       "    <tr style=\"text-align: right;\">\n",
       "      <th></th>\n",
       "      <th>Age</th>\n",
       "      <th>Sex</th>\n",
       "      <th>ID</th>\n",
       "      <th>Race</th>\n",
       "      <th>Country</th>\n",
       "      <th>Education</th>\n",
       "      <th>Education-Num</th>\n",
       "      <th>Marital Status</th>\n",
       "      <th>Relationship</th>\n",
       "    </tr>\n",
       "  </thead>\n",
       "  <tbody>\n",
       "    <tr>\n",
       "      <th>0</th>\n",
       "      <td>39</td>\n",
       "      <td>Male</td>\n",
       "      <td>49084</td>\n",
       "      <td>White</td>\n",
       "      <td>United-States</td>\n",
       "      <td>Bachelors</td>\n",
       "      <td>13.0</td>\n",
       "      <td>Never-married</td>\n",
       "      <td>Not-in-family</td>\n",
       "    </tr>\n",
       "    <tr>\n",
       "      <th>1</th>\n",
       "      <td>50</td>\n",
       "      <td>Male</td>\n",
       "      <td>68553</td>\n",
       "      <td>White</td>\n",
       "      <td>United-States</td>\n",
       "      <td>Bachelors</td>\n",
       "      <td>13.0</td>\n",
       "      <td>Married-civ-spouse</td>\n",
       "      <td>Husband</td>\n",
       "    </tr>\n",
       "    <tr>\n",
       "      <th>2</th>\n",
       "      <td>38</td>\n",
       "      <td>Male</td>\n",
       "      <td>143654</td>\n",
       "      <td>White</td>\n",
       "      <td>United-States</td>\n",
       "      <td>HS-grad</td>\n",
       "      <td>9.0</td>\n",
       "      <td>Divorced</td>\n",
       "      <td>Not-in-family</td>\n",
       "    </tr>\n",
       "    <tr>\n",
       "      <th>3</th>\n",
       "      <td>53</td>\n",
       "      <td>Male</td>\n",
       "      <td>41510</td>\n",
       "      <td>Black</td>\n",
       "      <td>United-States</td>\n",
       "      <td>11th</td>\n",
       "      <td>7.0</td>\n",
       "      <td>Married-civ-spouse</td>\n",
       "      <td>Husband</td>\n",
       "    </tr>\n",
       "    <tr>\n",
       "      <th>4</th>\n",
       "      <td>28</td>\n",
       "      <td>Female</td>\n",
       "      <td>195025</td>\n",
       "      <td>Black</td>\n",
       "      <td>Cuba</td>\n",
       "      <td>Bachelors</td>\n",
       "      <td>13.0</td>\n",
       "      <td>Married-civ-spouse</td>\n",
       "      <td>Wife</td>\n",
       "    </tr>\n",
       "  </tbody>\n",
       "</table>\n",
       "</div>"
      ],
      "text/plain": [
       "  Age      Sex      ID    Race         Country   Education Education-Num  \\\n",
       "0  39     Male   49084   White   United-States   Bachelors          13.0   \n",
       "1  50     Male   68553   White   United-States   Bachelors          13.0   \n",
       "2  38     Male  143654   White   United-States     HS-grad           9.0   \n",
       "3  53     Male   41510   Black   United-States        11th           7.0   \n",
       "4  28   Female  195025   Black            Cuba   Bachelors          13.0   \n",
       "\n",
       "        Marital Status    Relationship  \n",
       "0        Never-married   Not-in-family  \n",
       "1   Married-civ-spouse         Husband  \n",
       "2             Divorced   Not-in-family  \n",
       "3   Married-civ-spouse         Husband  \n",
       "4   Married-civ-spouse            Wife  "
      ]
     },
     "execution_count": 16,
     "metadata": {},
     "output_type": "execute_result"
    }
   ],
   "source": [
    "# Visualizando os dados do dfp\n",
    "\n",
    "dfp.head()\n"
   ]
  },
  {
   "cell_type": "code",
   "execution_count": 17,
   "metadata": {},
   "outputs": [
    {
     "name": "stdout",
     "output_type": "stream",
     "text": [
      "<class 'pandas.core.frame.DataFrame'>\n",
      "RangeIndex: 48842 entries, 0 to 48841\n",
      "Data columns (total 9 columns):\n",
      " #   Column          Non-Null Count  Dtype \n",
      "---  ------          --------------  ----- \n",
      " 0   Age             48841 non-null  object\n",
      " 1   Sex             48841 non-null  object\n",
      " 2   ID              48842 non-null  object\n",
      " 3   Race            48841 non-null  object\n",
      " 4   Country         48841 non-null  object\n",
      " 5   Education       48841 non-null  object\n",
      " 6   Education-Num   48841 non-null  object\n",
      " 7   Marital Status  48841 non-null  object\n",
      " 8   Relationship    48841 non-null  object\n",
      "dtypes: object(9)\n",
      "memory usage: 3.4+ MB\n"
     ]
    }
   ],
   "source": [
    "# Visualizando a qualidade e o tipo dos dados do dfw\n",
    "\n",
    "dfp.info()\n"
   ]
  },
  {
   "cell_type": "code",
   "execution_count": 18,
   "metadata": {},
   "outputs": [
    {
     "data": {
      "text/plain": [
       "(48842, 9)"
      ]
     },
     "execution_count": 18,
     "metadata": {},
     "output_type": "execute_result"
    }
   ],
   "source": [
    "# Qual é o shape do dfw? \n",
    "dfp.shape\n"
   ]
  },
  {
   "cell_type": "code",
   "execution_count": 19,
   "metadata": {},
   "outputs": [
    {
     "data": {
      "text/plain": [
       "Age               1\n",
       "Sex               1\n",
       "ID                0\n",
       "Race              1\n",
       "Country           1\n",
       "Education         1\n",
       "Education-Num     1\n",
       "Marital Status    1\n",
       "Relationship      1\n",
       "dtype: int64"
      ]
     },
     "execution_count": 19,
     "metadata": {},
     "output_type": "execute_result"
    }
   ],
   "source": [
    "# Há valores nulos no dfw?\n",
    "dfp.isnull().sum()\n"
   ]
  },
  {
   "cell_type": "code",
   "execution_count": 20,
   "metadata": {},
   "outputs": [
    {
     "data": {
      "text/plain": [
       "0"
      ]
     },
     "execution_count": 20,
     "metadata": {},
     "output_type": "execute_result"
    }
   ],
   "source": [
    "# Há valores duplicados no dfp?\n",
    "\n",
    "dfp.duplicated().sum()\n"
   ]
  },
  {
   "cell_type": "code",
   "execution_count": 21,
   "metadata": {},
   "outputs": [
    {
     "data": {
      "text/plain": [
       "Age                  74\n",
       "Sex                   2\n",
       "ID                48842\n",
       "Race                  5\n",
       "Country              42\n",
       "Education            16\n",
       "Education-Num        16\n",
       "Marital Status        7\n",
       "Relationship          6\n",
       "dtype: int64"
      ]
     },
     "execution_count": 21,
     "metadata": {},
     "output_type": "execute_result"
    }
   ],
   "source": [
    "# Quantos valores únicos do dfp?\n",
    "\n",
    "dfp.nunique()\n"
   ]
  },
  {
   "cell_type": "markdown",
   "metadata": {},
   "source": [
    "# COMBINAR E FUNDIR OS DFS"
   ]
  },
  {
   "cell_type": "markdown",
   "metadata": {},
   "source": [
    "- Para combinar os dois dataframes, vamos utilizar o método merge\n",
    "- Primeiro, vamos identificar se eles tem alguma coluna em comum que possa ser utilizada como chave\n",
    "\n",
    "- Para identificar as colunas em comum, vamos utilizar o método columns e a função built-in set"
   ]
  },
  {
   "cell_type": "code",
   "execution_count": 22,
   "metadata": {},
   "outputs": [
    {
     "data": {
      "text/plain": [
       "{'ID'}"
      ]
     },
     "execution_count": 22,
     "metadata": {},
     "output_type": "execute_result"
    }
   ],
   "source": [
    "coluna_comum = set(dfw.columns) & (set(dfp.columns))\n",
    "\n",
    "coluna_comum\n"
   ]
  },
  {
   "cell_type": "code",
   "execution_count": 23,
   "metadata": {},
   "outputs": [],
   "source": [
    "# Com a coluna chave identificada, unir os dois dataframes\n",
    "\n",
    "df_wp = pd.merge(dfw, dfp, on='ID')\n"
   ]
  },
  {
   "cell_type": "code",
   "execution_count": 24,
   "metadata": {},
   "outputs": [
    {
     "data": {
      "text/html": [
       "<div>\n",
       "<style scoped>\n",
       "    .dataframe tbody tr th:only-of-type {\n",
       "        vertical-align: middle;\n",
       "    }\n",
       "\n",
       "    .dataframe tbody tr th {\n",
       "        vertical-align: top;\n",
       "    }\n",
       "\n",
       "    .dataframe thead th {\n",
       "        text-align: right;\n",
       "    }\n",
       "</style>\n",
       "<table border=\"1\" class=\"dataframe\">\n",
       "  <thead>\n",
       "    <tr style=\"text-align: right;\">\n",
       "      <th></th>\n",
       "      <th>Workclass</th>\n",
       "      <th>fnlwgt</th>\n",
       "      <th>Capital Gain</th>\n",
       "      <th>Capital Loss</th>\n",
       "      <th>Hours per week</th>\n",
       "      <th>ID</th>\n",
       "      <th>Target</th>\n",
       "      <th>Age</th>\n",
       "      <th>Sex</th>\n",
       "      <th>Race</th>\n",
       "      <th>Country</th>\n",
       "      <th>Education</th>\n",
       "      <th>Education-Num</th>\n",
       "      <th>Marital Status</th>\n",
       "      <th>Relationship</th>\n",
       "    </tr>\n",
       "  </thead>\n",
       "  <tbody>\n",
       "    <tr>\n",
       "      <th>0</th>\n",
       "      <td>State-gov</td>\n",
       "      <td>77516.0</td>\n",
       "      <td>2174.0</td>\n",
       "      <td>0.0</td>\n",
       "      <td>40.0</td>\n",
       "      <td>49084</td>\n",
       "      <td>&lt;=50K</td>\n",
       "      <td>39</td>\n",
       "      <td>Male</td>\n",
       "      <td>White</td>\n",
       "      <td>United-States</td>\n",
       "      <td>Bachelors</td>\n",
       "      <td>13.0</td>\n",
       "      <td>Never-married</td>\n",
       "      <td>Not-in-family</td>\n",
       "    </tr>\n",
       "    <tr>\n",
       "      <th>1</th>\n",
       "      <td>Self-emp-not-inc</td>\n",
       "      <td>83311.0</td>\n",
       "      <td>0.0</td>\n",
       "      <td>0.0</td>\n",
       "      <td>13.0</td>\n",
       "      <td>68553</td>\n",
       "      <td>&lt;=50K</td>\n",
       "      <td>50</td>\n",
       "      <td>Male</td>\n",
       "      <td>White</td>\n",
       "      <td>United-States</td>\n",
       "      <td>Bachelors</td>\n",
       "      <td>13.0</td>\n",
       "      <td>Married-civ-spouse</td>\n",
       "      <td>Husband</td>\n",
       "    </tr>\n",
       "    <tr>\n",
       "      <th>2</th>\n",
       "      <td>Private</td>\n",
       "      <td>215646.0</td>\n",
       "      <td>0.0</td>\n",
       "      <td>0.0</td>\n",
       "      <td>40.0</td>\n",
       "      <td>143654</td>\n",
       "      <td>&lt;=50K</td>\n",
       "      <td>38</td>\n",
       "      <td>Male</td>\n",
       "      <td>White</td>\n",
       "      <td>United-States</td>\n",
       "      <td>HS-grad</td>\n",
       "      <td>9.0</td>\n",
       "      <td>Divorced</td>\n",
       "      <td>Not-in-family</td>\n",
       "    </tr>\n",
       "    <tr>\n",
       "      <th>3</th>\n",
       "      <td>Private</td>\n",
       "      <td>234721.0</td>\n",
       "      <td>0.0</td>\n",
       "      <td>0.0</td>\n",
       "      <td>40.0</td>\n",
       "      <td>41510</td>\n",
       "      <td>&lt;=50K</td>\n",
       "      <td>53</td>\n",
       "      <td>Male</td>\n",
       "      <td>Black</td>\n",
       "      <td>United-States</td>\n",
       "      <td>11th</td>\n",
       "      <td>7.0</td>\n",
       "      <td>Married-civ-spouse</td>\n",
       "      <td>Husband</td>\n",
       "    </tr>\n",
       "    <tr>\n",
       "      <th>4</th>\n",
       "      <td>Private</td>\n",
       "      <td>338409.0</td>\n",
       "      <td>0.0</td>\n",
       "      <td>0.0</td>\n",
       "      <td>40.0</td>\n",
       "      <td>195025</td>\n",
       "      <td>&lt;=50K</td>\n",
       "      <td>28</td>\n",
       "      <td>Female</td>\n",
       "      <td>Black</td>\n",
       "      <td>Cuba</td>\n",
       "      <td>Bachelors</td>\n",
       "      <td>13.0</td>\n",
       "      <td>Married-civ-spouse</td>\n",
       "      <td>Wife</td>\n",
       "    </tr>\n",
       "  </tbody>\n",
       "</table>\n",
       "</div>"
      ],
      "text/plain": [
       "           Workclass    fnlwgt Capital Gain Capital Loss Hours per week  \\\n",
       "0          State-gov   77516.0       2174.0          0.0           40.0   \n",
       "1   Self-emp-not-inc   83311.0          0.0          0.0           13.0   \n",
       "2            Private  215646.0          0.0          0.0           40.0   \n",
       "3            Private  234721.0          0.0          0.0           40.0   \n",
       "4            Private  338409.0          0.0          0.0           40.0   \n",
       "\n",
       "       ID  Target Age      Sex    Race         Country   Education  \\\n",
       "0   49084   <=50K  39     Male   White   United-States   Bachelors   \n",
       "1   68553   <=50K  50     Male   White   United-States   Bachelors   \n",
       "2  143654   <=50K  38     Male   White   United-States     HS-grad   \n",
       "3   41510   <=50K  53     Male   Black   United-States        11th   \n",
       "4  195025   <=50K  28   Female   Black            Cuba   Bachelors   \n",
       "\n",
       "  Education-Num       Marital Status    Relationship  \n",
       "0          13.0        Never-married   Not-in-family  \n",
       "1          13.0   Married-civ-spouse         Husband  \n",
       "2           9.0             Divorced   Not-in-family  \n",
       "3           7.0   Married-civ-spouse         Husband  \n",
       "4          13.0   Married-civ-spouse            Wife  "
      ]
     },
     "execution_count": 24,
     "metadata": {},
     "output_type": "execute_result"
    }
   ],
   "source": [
    "# Vamos visualizar o df_wp\n",
    "\n",
    "df_wp.head(5)\n"
   ]
  },
  {
   "cell_type": "code",
   "execution_count": 25,
   "metadata": {},
   "outputs": [
    {
     "name": "stdout",
     "output_type": "stream",
     "text": [
      "<class 'pandas.core.frame.DataFrame'>\n",
      "RangeIndex: 48842 entries, 0 to 48841\n",
      "Data columns (total 15 columns):\n",
      " #   Column          Non-Null Count  Dtype \n",
      "---  ------          --------------  ----- \n",
      " 0   Workclass       48841 non-null  object\n",
      " 1   fnlwgt          48841 non-null  object\n",
      " 2   Capital Gain    48841 non-null  object\n",
      " 3   Capital Loss    48841 non-null  object\n",
      " 4   Hours per week  48841 non-null  object\n",
      " 5   ID              48842 non-null  object\n",
      " 6   Target          48841 non-null  object\n",
      " 7   Age             48841 non-null  object\n",
      " 8   Sex             48841 non-null  object\n",
      " 9   Race            48841 non-null  object\n",
      " 10  Country         48841 non-null  object\n",
      " 11  Education       48841 non-null  object\n",
      " 12  Education-Num   48841 non-null  object\n",
      " 13  Marital Status  48841 non-null  object\n",
      " 14  Relationship    48841 non-null  object\n",
      "dtypes: object(15)\n",
      "memory usage: 5.6+ MB\n"
     ]
    }
   ],
   "source": [
    "df_wp.info()\n"
   ]
  },
  {
   "cell_type": "code",
   "execution_count": 26,
   "metadata": {},
   "outputs": [],
   "source": [
    "# Tratanto os dados\n",
    "\n",
    "# Vou retirar as colunas que não serão utilizadas para este estudo. Optei por tirar as colunas 1, 2, 3 e 11\n",
    "\n",
    "df_wp.drop(df_wp.columns[[1, 2, 3, 11]], axis=1, inplace=True)\n"
   ]
  },
  {
   "cell_type": "code",
   "execution_count": 27,
   "metadata": {},
   "outputs": [
    {
     "name": "stdout",
     "output_type": "stream",
     "text": [
      "<class 'pandas.core.frame.DataFrame'>\n",
      "RangeIndex: 48842 entries, 0 to 48841\n",
      "Data columns (total 11 columns):\n",
      " #   Column          Non-Null Count  Dtype \n",
      "---  ------          --------------  ----- \n",
      " 0   Workclass       48841 non-null  object\n",
      " 1   Hours per week  48841 non-null  object\n",
      " 2   ID              48842 non-null  object\n",
      " 3   Target          48841 non-null  object\n",
      " 4   Age             48841 non-null  object\n",
      " 5   Sex             48841 non-null  object\n",
      " 6   Race            48841 non-null  object\n",
      " 7   Country         48841 non-null  object\n",
      " 8   Education-Num   48841 non-null  object\n",
      " 9   Marital Status  48841 non-null  object\n",
      " 10  Relationship    48841 non-null  object\n",
      "dtypes: object(11)\n",
      "memory usage: 4.1+ MB\n"
     ]
    }
   ],
   "source": [
    "# Vamos visualizar o df_wp\n",
    "\n",
    "df_wp.info()\n"
   ]
  },
  {
   "cell_type": "code",
   "execution_count": 28,
   "metadata": {},
   "outputs": [
    {
     "data": {
      "text/html": [
       "<div>\n",
       "<style scoped>\n",
       "    .dataframe tbody tr th:only-of-type {\n",
       "        vertical-align: middle;\n",
       "    }\n",
       "\n",
       "    .dataframe tbody tr th {\n",
       "        vertical-align: top;\n",
       "    }\n",
       "\n",
       "    .dataframe thead th {\n",
       "        text-align: right;\n",
       "    }\n",
       "</style>\n",
       "<table border=\"1\" class=\"dataframe\">\n",
       "  <thead>\n",
       "    <tr style=\"text-align: right;\">\n",
       "      <th></th>\n",
       "      <th>Workclass</th>\n",
       "      <th>Hours per week</th>\n",
       "      <th>ID</th>\n",
       "      <th>Target</th>\n",
       "      <th>Age</th>\n",
       "      <th>Sex</th>\n",
       "      <th>Race</th>\n",
       "      <th>Country</th>\n",
       "      <th>Education-Num</th>\n",
       "      <th>Marital Status</th>\n",
       "      <th>Relationship</th>\n",
       "    </tr>\n",
       "  </thead>\n",
       "  <tbody>\n",
       "    <tr>\n",
       "      <th>0</th>\n",
       "      <td>State-gov</td>\n",
       "      <td>40.0</td>\n",
       "      <td>49084</td>\n",
       "      <td>&lt;=50K</td>\n",
       "      <td>39</td>\n",
       "      <td>Male</td>\n",
       "      <td>White</td>\n",
       "      <td>United-States</td>\n",
       "      <td>13.0</td>\n",
       "      <td>Never-married</td>\n",
       "      <td>Not-in-family</td>\n",
       "    </tr>\n",
       "    <tr>\n",
       "      <th>1</th>\n",
       "      <td>Self-emp-not-inc</td>\n",
       "      <td>13.0</td>\n",
       "      <td>68553</td>\n",
       "      <td>&lt;=50K</td>\n",
       "      <td>50</td>\n",
       "      <td>Male</td>\n",
       "      <td>White</td>\n",
       "      <td>United-States</td>\n",
       "      <td>13.0</td>\n",
       "      <td>Married-civ-spouse</td>\n",
       "      <td>Husband</td>\n",
       "    </tr>\n",
       "    <tr>\n",
       "      <th>2</th>\n",
       "      <td>Private</td>\n",
       "      <td>40.0</td>\n",
       "      <td>143654</td>\n",
       "      <td>&lt;=50K</td>\n",
       "      <td>38</td>\n",
       "      <td>Male</td>\n",
       "      <td>White</td>\n",
       "      <td>United-States</td>\n",
       "      <td>9.0</td>\n",
       "      <td>Divorced</td>\n",
       "      <td>Not-in-family</td>\n",
       "    </tr>\n",
       "    <tr>\n",
       "      <th>3</th>\n",
       "      <td>Private</td>\n",
       "      <td>40.0</td>\n",
       "      <td>41510</td>\n",
       "      <td>&lt;=50K</td>\n",
       "      <td>53</td>\n",
       "      <td>Male</td>\n",
       "      <td>Black</td>\n",
       "      <td>United-States</td>\n",
       "      <td>7.0</td>\n",
       "      <td>Married-civ-spouse</td>\n",
       "      <td>Husband</td>\n",
       "    </tr>\n",
       "    <tr>\n",
       "      <th>4</th>\n",
       "      <td>Private</td>\n",
       "      <td>40.0</td>\n",
       "      <td>195025</td>\n",
       "      <td>&lt;=50K</td>\n",
       "      <td>28</td>\n",
       "      <td>Female</td>\n",
       "      <td>Black</td>\n",
       "      <td>Cuba</td>\n",
       "      <td>13.0</td>\n",
       "      <td>Married-civ-spouse</td>\n",
       "      <td>Wife</td>\n",
       "    </tr>\n",
       "  </tbody>\n",
       "</table>\n",
       "</div>"
      ],
      "text/plain": [
       "           Workclass Hours per week      ID  Target Age      Sex    Race  \\\n",
       "0          State-gov           40.0   49084   <=50K  39     Male   White   \n",
       "1   Self-emp-not-inc           13.0   68553   <=50K  50     Male   White   \n",
       "2            Private           40.0  143654   <=50K  38     Male   White   \n",
       "3            Private           40.0   41510   <=50K  53     Male   Black   \n",
       "4            Private           40.0  195025   <=50K  28   Female   Black   \n",
       "\n",
       "          Country Education-Num       Marital Status    Relationship  \n",
       "0   United-States          13.0        Never-married   Not-in-family  \n",
       "1   United-States          13.0   Married-civ-spouse         Husband  \n",
       "2   United-States           9.0             Divorced   Not-in-family  \n",
       "3   United-States           7.0   Married-civ-spouse         Husband  \n",
       "4            Cuba          13.0   Married-civ-spouse            Wife  "
      ]
     },
     "execution_count": 28,
     "metadata": {},
     "output_type": "execute_result"
    }
   ],
   "source": [
    "df_wp.head(5)\n"
   ]
  },
  {
   "cell_type": "code",
   "execution_count": 29,
   "metadata": {},
   "outputs": [
    {
     "data": {
      "text/plain": [
       "Target\n",
       " <=50K     24720\n",
       " <=50K.    12435\n",
       " >50K       7841\n",
       " >50K.      3845\n",
       "dtype: int64"
      ]
     },
     "execution_count": 29,
     "metadata": {},
     "output_type": "execute_result"
    }
   ],
   "source": [
    "# Group by - agrupando os dados com base na coluna 'Target'\n",
    "\n",
    "df_wp.groupby('Target').size()\n"
   ]
  },
  {
   "cell_type": "code",
   "execution_count": 30,
   "metadata": {},
   "outputs": [],
   "source": [
    "# Precisamos tratar a coluna 'Target\" para que fiquem apenas os valores <=50K e >50K sem o ponto final\n",
    "\n",
    "df_wp['Target'] = df_wp['Target'].str.replace('.', '')\n"
   ]
  },
  {
   "cell_type": "code",
   "execution_count": 31,
   "metadata": {},
   "outputs": [],
   "source": [
    "# Também, vamos trocar os valores NaN pela moda da coluna\n",
    "\n",
    "df_wp['Target'] = df_wp['Target'].fillna(df_wp['Target'].mode()[0])\n"
   ]
  },
  {
   "cell_type": "code",
   "execution_count": 32,
   "metadata": {},
   "outputs": [
    {
     "data": {
      "text/plain": [
       "Target\n",
       " <=50K    37156\n",
       " >50K     11686\n",
       "dtype: int64"
      ]
     },
     "execution_count": 32,
     "metadata": {},
     "output_type": "execute_result"
    }
   ],
   "source": [
    "df_wp.groupby('Target').size()\n"
   ]
  },
  {
   "cell_type": "markdown",
   "metadata": {},
   "source": [
    "Observamos que 37 mil pessoas ganham menos ou igual a 50k e pouco mais de 11 mil ganham mais de 50k\n",
    "\n"
   ]
  },
  {
   "cell_type": "code",
   "execution_count": 33,
   "metadata": {},
   "outputs": [
    {
     "data": {
      "text/plain": [
       "Workclass             9\n",
       "Hours per week       96\n",
       "ID                48842\n",
       "Target                2\n",
       "Age                  74\n",
       "Sex                   2\n",
       "Race                  5\n",
       "Country              42\n",
       "Education-Num        16\n",
       "Marital Status        7\n",
       "Relationship          6\n",
       "dtype: int64"
      ]
     },
     "execution_count": 33,
     "metadata": {},
     "output_type": "execute_result"
    }
   ],
   "source": [
    "# vamos analisar os valores unicos do df_wp\n",
    "\n",
    "df_wp.nunique()\n"
   ]
  },
  {
   "cell_type": "code",
   "execution_count": 34,
   "metadata": {},
   "outputs": [
    {
     "data": {
      "text/plain": [
       "array([' White', ' Black', ' Asian-Pac-Islander', ' Amer-Indian-Eskimo',\n",
       "       ' Other', nan], dtype=object)"
      ]
     },
     "execution_count": 34,
     "metadata": {},
     "output_type": "execute_result"
    }
   ],
   "source": [
    "df_wp['Race'].unique()\n"
   ]
  },
  {
   "cell_type": "code",
   "execution_count": 35,
   "metadata": {},
   "outputs": [],
   "source": [
    "# tirar os espaços em branco da coluna Race, Country e Education-Num, Marital Status, Relationship e workclass\n"
   ]
  },
  {
   "cell_type": "code",
   "execution_count": 36,
   "metadata": {},
   "outputs": [],
   "source": [
    "# Race usando o strip e drop NAN\n",
    "\n",
    "df_wp['Race'] = df_wp['Race'].str.strip()\n",
    "\n",
    "df_wp['Country'] = df_wp['Country'].str.strip()\n",
    "\n",
    "df_wp['Education-Num'] = df_wp['Education-Num'].str.strip()\n",
    "\n",
    "df_wp['Marital Status'] = df_wp['Marital Status'].str.strip()\n",
    "\n",
    "df_wp['Relationship'] = df_wp['Relationship'].str.strip()\n",
    "\n",
    "df_wp['Workclass'] = df_wp['Workclass'].str.strip()\n"
   ]
  },
  {
   "cell_type": "code",
   "execution_count": 37,
   "metadata": {},
   "outputs": [
    {
     "data": {
      "text/plain": [
       "Workclass         2799\n",
       "Hours per week       0\n",
       "ID                   0\n",
       "Target               0\n",
       "Age                  0\n",
       "Sex                  0\n",
       "Race                 0\n",
       "Country            857\n",
       "Education-Num        0\n",
       "Marital Status       0\n",
       "Relationship         0\n",
       "dtype: int64"
      ]
     },
     "execution_count": 37,
     "metadata": {},
     "output_type": "execute_result"
    }
   ],
   "source": [
    "# Ainda há valores ? no df_wp?\n",
    "\n",
    "df_wp.isin(['?']).sum() \n"
   ]
  },
  {
   "cell_type": "code",
   "execution_count": 38,
   "metadata": {},
   "outputs": [
    {
     "data": {
      "text/plain": [
       "Workclass         0\n",
       "Hours per week    0\n",
       "ID                0\n",
       "Target            0\n",
       "Age               0\n",
       "Sex               0\n",
       "Race              0\n",
       "Country           0\n",
       "Education-Num     0\n",
       "Marital Status    0\n",
       "Relationship      0\n",
       "dtype: int64"
      ]
     },
     "execution_count": 38,
     "metadata": {},
     "output_type": "execute_result"
    }
   ],
   "source": [
    "# vamos subtituir os valores ? por NaN\n",
    "\n",
    "df_wp = df_wp.replace('?', np.nan)\n",
    "\n",
    "# Vamos visualizar o df_wp\n",
    "\n",
    "df_wp.isin(['?']).sum()\n"
   ]
  },
  {
   "cell_type": "code",
   "execution_count": 39,
   "metadata": {},
   "outputs": [
    {
     "data": {
      "text/plain": [
       "Workclass         2800\n",
       "Hours per week       1\n",
       "ID                   0\n",
       "Target               0\n",
       "Age                  1\n",
       "Sex                  1\n",
       "Race                 1\n",
       "Country            858\n",
       "Education-Num        1\n",
       "Marital Status       1\n",
       "Relationship         1\n",
       "dtype: int64"
      ]
     },
     "execution_count": 39,
     "metadata": {},
     "output_type": "execute_result"
    }
   ],
   "source": [
    "# Há valores nulos no df_wp?\n",
    "\n",
    "df_wp.isnull().sum()\n"
   ]
  },
  {
   "cell_type": "code",
   "execution_count": 40,
   "metadata": {},
   "outputs": [
    {
     "data": {
      "text/plain": [
       "Workclass         0\n",
       "Hours per week    1\n",
       "ID                0\n",
       "Target            0\n",
       "Age               1\n",
       "Sex               1\n",
       "Race              1\n",
       "Country           0\n",
       "Education-Num     1\n",
       "Marital Status    1\n",
       "Relationship      1\n",
       "dtype: int64"
      ]
     },
     "execution_count": 40,
     "metadata": {},
     "output_type": "execute_result"
    }
   ],
   "source": [
    "# Precisamos tratar os valores NAN e substituir pela moda da coluna Workclass e Country. \n",
    "\n",
    "df_wp['Workclass'] = df_wp['Workclass'].fillna(df_wp['Workclass'].mode()[0])\n",
    "\n",
    "df_wp['Country'] = df_wp['Country'].fillna(df_wp['Country'].mode()[0])\n",
    "\n",
    "\n",
    "# Vamos visualizar o df_wp\n",
    "\n",
    "df_wp.isnull().sum()\n"
   ]
  },
  {
   "cell_type": "code",
   "execution_count": 41,
   "metadata": {},
   "outputs": [
    {
     "data": {
      "text/plain": [
       "Workclass         0\n",
       "Hours per week    0\n",
       "ID                0\n",
       "Target            0\n",
       "Age               0\n",
       "Sex               0\n",
       "Race              0\n",
       "Country           0\n",
       "Education-Num     0\n",
       "Marital Status    0\n",
       "Relationship      0\n",
       "dtype: int64"
      ]
     },
     "execution_count": 41,
     "metadata": {},
     "output_type": "execute_result"
    }
   ],
   "source": [
    "# as demais colunas tem apenas 1 valor nulo, mas vamos substituir pela moda da coluna\n",
    "\n",
    "df_wp['Education-Num'] = df_wp['Education-Num'].fillna(df_wp['Education-Num'].mode()[0])\n",
    "\n",
    "df_wp['Hours per week'] = df_wp['Hours per week'].fillna(df_wp['Hours per week'].mode()[0])\n",
    "\n",
    "df_wp['Marital Status'] = df_wp['Marital Status'].fillna(df_wp['Marital Status'].mode()[0])\n",
    "\n",
    "df_wp['Relationship'] = df_wp['Relationship'].fillna(df_wp['Relationship'].mode()[0])\n",
    "\n",
    "df_wp['Age'] = df_wp['Age'].fillna(df_wp['Age'].mode()[0])\n",
    "\n",
    "df_wp['Sex'] = df_wp['Sex'].fillna(df_wp['Sex'].mode()[0])\n",
    "\n",
    "df_wp['Race'] = df_wp['Race'].fillna(df_wp['Race'].mode()[0])\n",
    "\n",
    "\n",
    "# Vamos visualizar o df_wp\n",
    "\n",
    "df_wp.isnull().sum()\n"
   ]
  },
  {
   "cell_type": "code",
   "execution_count": 42,
   "metadata": {},
   "outputs": [
    {
     "data": {
      "text/plain": [
       "array(['Not-in-family', 'Husband', 'Wife', 'Own-child', 'Unmarried',\n",
       "       'Other-relative'], dtype=object)"
      ]
     },
     "execution_count": 42,
     "metadata": {},
     "output_type": "execute_result"
    }
   ],
   "source": [
    "df_wp['Relationship'].unique()\n"
   ]
  },
  {
   "cell_type": "code",
   "execution_count": 43,
   "metadata": {},
   "outputs": [
    {
     "data": {
      "text/plain": [
       "array(['Never-married', 'Married-civ-spouse', 'Divorced',\n",
       "       'Married-spouse-absent', 'Separated', 'Married-AF-spouse',\n",
       "       'Widowed'], dtype=object)"
      ]
     },
     "execution_count": 43,
     "metadata": {},
     "output_type": "execute_result"
    }
   ],
   "source": [
    "df_wp['Marital Status'].unique()\n"
   ]
  },
  {
   "cell_type": "code",
   "execution_count": 44,
   "metadata": {},
   "outputs": [
    {
     "data": {
      "text/plain": [
       "array(['State-gov', 'Self-emp-not-inc', 'Private', 'Federal-gov',\n",
       "       'Local-gov', 'Self-emp-inc', 'Without-pay', 'Never-worked'],\n",
       "      dtype=object)"
      ]
     },
     "execution_count": 44,
     "metadata": {},
     "output_type": "execute_result"
    }
   ],
   "source": [
    "df_wp['Workclass'].unique()\n"
   ]
  },
  {
   "cell_type": "code",
   "execution_count": 45,
   "metadata": {},
   "outputs": [
    {
     "data": {
      "text/plain": [
       "array(['13.0', '9.0', '7.0', '14.0', '5.0', '10.0', '12.0', '11.0', '4.0',\n",
       "       '16.0', '15.0', '3.0', '6.0', '2.0', '1.0', '8.0'], dtype=object)"
      ]
     },
     "execution_count": 45,
     "metadata": {},
     "output_type": "execute_result"
    }
   ],
   "source": [
    "df_wp['Education-Num'].unique()\n"
   ]
  },
  {
   "cell_type": "code",
   "execution_count": 46,
   "metadata": {},
   "outputs": [
    {
     "name": "stdout",
     "output_type": "stream",
     "text": [
      "<class 'pandas.core.frame.DataFrame'>\n",
      "RangeIndex: 48842 entries, 0 to 48841\n",
      "Data columns (total 11 columns):\n",
      " #   Column          Non-Null Count  Dtype \n",
      "---  ------          --------------  ----- \n",
      " 0   Workclass       48842 non-null  object\n",
      " 1   Hours per week  48842 non-null  object\n",
      " 2   ID              48842 non-null  object\n",
      " 3   Target          48842 non-null  object\n",
      " 4   Age             48842 non-null  object\n",
      " 5   Sex             48842 non-null  object\n",
      " 6   Race            48842 non-null  object\n",
      " 7   Country         48842 non-null  object\n",
      " 8   Education-Num   48842 non-null  object\n",
      " 9   Marital Status  48842 non-null  object\n",
      " 10  Relationship    48842 non-null  object\n",
      "dtypes: object(11)\n",
      "memory usage: 4.1+ MB\n"
     ]
    }
   ],
   "source": [
    "# Quais colunas precisamos transformar em numéricas?\n",
    "\n",
    "df_wp.info()\n"
   ]
  },
  {
   "cell_type": "code",
   "execution_count": 47,
   "metadata": {},
   "outputs": [
    {
     "name": "stdout",
     "output_type": "stream",
     "text": [
      "<class 'pandas.core.frame.DataFrame'>\n",
      "RangeIndex: 48842 entries, 0 to 48841\n",
      "Data columns (total 11 columns):\n",
      " #   Column          Non-Null Count  Dtype  \n",
      "---  ------          --------------  -----  \n",
      " 0   Workclass       48842 non-null  object \n",
      " 1   Hours per week  48842 non-null  float64\n",
      " 2   ID              48842 non-null  object \n",
      " 3   Target          48842 non-null  object \n",
      " 4   Age             48842 non-null  int64  \n",
      " 5   Sex             48842 non-null  object \n",
      " 6   Race            48842 non-null  object \n",
      " 7   Country         48842 non-null  object \n",
      " 8   Education-Num   48842 non-null  float64\n",
      " 9   Marital Status  48842 non-null  object \n",
      " 10  Relationship    48842 non-null  object \n",
      "dtypes: float64(2), int64(1), object(8)\n",
      "memory usage: 4.1+ MB\n"
     ]
    }
   ],
   "source": [
    "# Vamos transformar as colunas 'Age', 'Education-Num', 'Hours per week' em numéricas\n",
    "\n",
    "df_wp['Age'] = pd.to_numeric(df_wp['Age'])\n",
    "\n",
    "df_wp['Education-Num'] = pd.to_numeric(df_wp['Education-Num'])\n",
    "\n",
    "df_wp['Hours per week'] = pd.to_numeric(df_wp['Hours per week'])\n",
    "\n",
    "# Vamos visualizar o df_wp\n",
    "\n",
    "df_wp.info()    \n"
   ]
  },
  {
   "cell_type": "markdown",
   "metadata": {},
   "source": [
    "# REALIZANDO ALGUNS CALCULOS"
   ]
  },
  {
   "cell_type": "code",
   "execution_count": 48,
   "metadata": {},
   "outputs": [
    {
     "data": {
      "text/plain": [
       "array([' Male', ' Female'], dtype=object)"
      ]
     },
     "execution_count": 48,
     "metadata": {},
     "output_type": "execute_result"
    }
   ],
   "source": [
    "# Calcular a proporção entre pessoas com salários >50k em relação ao total com pessoas que \n",
    "# difiram em sexo\n",
    "\n",
    "df_wp['Sex'].unique()\n"
   ]
  },
  {
   "cell_type": "code",
   "execution_count": 84,
   "metadata": {},
   "outputs": [
    {
     "name": "stdout",
     "output_type": "stream",
     "text": [
      "10.93 %\n"
     ]
    }
   ],
   "source": [
    "# Vamos calcular a proporção de pessoas que ganham >50k em relação ao total de mulheres -utilizando a coluna 'Sex' como filtro\n",
    "\n",
    "# considerando as colunas SEX e TARGET , quantas mulheres ganham mais de 50k?\n",
    "\n",
    "df_wp['Sex'] = df_wp['Sex'].str.replace(' ','')\n",
    "df_wp['Target'] = df_wp['Target'].str.replace(' ','')\n",
    "df_woman = df_wp[df_wp['Sex'] == 'Female'] # primeiro vamos filtrar as mulheres\n",
    "df_above_50k = df_woman[df_woman['Target'] == '>50K'] # agora vamos filtrar as mulheres que ganham mais de 50k\n",
    "# proporção de'Female' que ganham mais de 50k\n",
    "\n",
    "proportion = len(df_above_50k.index) / len(df_woman.index) * 100\n",
    "print(round(proportion,2),'%')\n"
   ]
  },
  {
   "cell_type": "code",
   "execution_count": 85,
   "metadata": {},
   "outputs": [
    {
     "name": "stdout",
     "output_type": "stream",
     "text": [
      "30.37 %   10.93 %\n"
     ]
    },
    {
     "data": {
      "text/plain": [
       "(30.373660030627867, 10.925148221343873)"
      ]
     },
     "execution_count": 85,
     "metadata": {},
     "output_type": "execute_result"
    }
   ],
   "source": [
    "# ACUSOU ERRO PORQUE EU NÃO CONSIDEREI A DIVISÃO POR ZERO.\n",
    "\n",
    "# VOU REPETIR A OPERAÇÃO E APLICAR A MESMA LÓGICA PARA OS 'Male'\n",
    "\n",
    "# vou usar .srt.strip() para retirar os espaços em branco antes e depois dos valores da coluna\n",
    "df_wp['Sex'] = df_wp['Sex'].str.strip()\n",
    "df_wp['Target'] = df_wp['Target'].str.strip()\n",
    "\n",
    "total_men_df_wp = df_wp[df_wp['Sex'].str.lower() == 'male']\n",
    "total_women_df_wp = df_wp[df_wp['Sex'].str.lower() == 'female']\n",
    "\n",
    "earning_men_df_wp = total_men_df_wp[total_men_df_wp['Target'].str.lower() == '>50k']\n",
    "earning_women_df_wp = total_women_df_wp[total_women_df_wp['Target'].str.lower() == '>50k']\n",
    "\n",
    "proportion_men = len(earning_men_df_wp.index) / len(total_men_df_wp.index) * 100\n",
    "proportion_women = len(earning_women_df_wp.index) / len(total_women_df_wp.index) * 100\n",
    "\n",
    "print(round(proportion_men,2),'%',' ',round(proportion_women,2),'%')\n",
    "proportion_men, proportion_women\n"
   ]
  },
  {
   "cell_type": "markdown",
   "metadata": {},
   "source": [
    "- Para facilitar o entendimento do leitor, utilizarei um grafico de barras simples. "
   ]
  },
  {
   "cell_type": "code",
   "execution_count": 86,
   "metadata": {},
   "outputs": [
    {
     "data": {
      "image/png": "[encoded data removed]",
      "text/plain": [
       "<Figure size 640x480 with 1 Axes>"
      ]
     },
     "metadata": {},
     "output_type": "display_data"
    }
   ],
   "source": [
    "import matplotlib.pyplot as plt\n",
    "\n",
    "# Vou precisar criar uma lista com as proporções de homens e mulheres \n",
    "proportions = [proportion_men, proportion_women]\n",
    "labels = ['Homens', 'Mulheres'] \n",
    "\n",
    "plt.bar(labels, proportions)\n",
    "plt.ylabel('Proporção')\n",
    "plt.title('Proporção de Mulher e Homens que ganham >50k')\n",
    "\n",
    "plt.show()\n"
   ]
  },
  {
   "cell_type": "markdown",
   "metadata": {},
   "source": [
    "- Neste caso, verificamos que a proporção de homens que ganham mais de 50k é maior que a proporção de mulheres"
   ]
  },
  {
   "cell_type": "code",
   "execution_count": 87,
   "metadata": {},
   "outputs": [
    {
     "data": {
      "image/png": "[encoded data removed]",
      "text/plain": [
       "<Figure size 640x480 with 1 Axes>"
      ]
     },
     "metadata": {},
     "output_type": "display_data"
    }
   ],
   "source": [
    "# Para mostrar o percentual de homens e mulheres que ganham >50k, vou usar o pie chart\n",
    "# vamos usar os valores encontrados em proportion_men, proportion_women\n",
    "\n",
    "\n",
    "plt.pie(proportions, labels=labels, autopct='%1.1f%%', shadow=True, startangle=140)\n",
    "# proportion é a lista com as proporções de homens e mulheres \n",
    "\n",
    "plt.axis('equal') # axis igual para que o gráfico fique redondo\n",
    "\n",
    "plt.show()\n"
   ]
  }
 ],
 "metadata": {
  "kernelspec": {
   "display_name": "coder2023",
   "language": "python",
   "name": "python3"
  },
  "language_info": {
   "codemirror_mode": {
    "name": "ipython",
    "version": 3
   },
   "file_extension": ".py",
   "mimetype": "text/x-python",
   "name": "python",
   "nbconvert_exporter": "python",
   "pygments_lexer": "ipython3",
   "version": "3.11.7"
  }
 },
 "nbformat": 4,
 "nbformat_minor": 2
}
