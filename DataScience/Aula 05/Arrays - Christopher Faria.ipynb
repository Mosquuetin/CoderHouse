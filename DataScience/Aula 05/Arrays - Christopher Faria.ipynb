{
 "cells": [
  {
   "cell_type": "code",
   "execution_count": null,
   "metadata": {},
   "outputs": [],
   "source": [
    "import numpy as np"
   ]
  },
  {
   "cell_type": "code",
   "execution_count": 24,
   "metadata": {},
   "outputs": [
    {
     "name": "stdout",
     "output_type": "stream",
     "text": [
      "O fatorial de 5 é 120\n"
     ]
    }
   ],
   "source": [
    "numero = int(input('Digite um numero '))\n",
    "def fatorial(numero):\n",
    "    lista = list(np.arange(1,numero+1))\n",
    "    x=1\n",
    "    for n in lista:\n",
    "        x = x * n\n",
    "    print('O fatorial de '+str(numero)+' é '+str(x))\n",
    "    \n",
    "fatorial(numero)"
   ]
  },
  {
   "cell_type": "code",
   "execution_count": null,
   "metadata": {},
   "outputs": [
    {
     "name": "stdout",
     "output_type": "stream",
     "text": [
      "O somatorio de 1 até 100 é 5050\n"
     ]
    }
   ],
   "source": [
    "def somatorio(numero1,numero2):\n",
    "    lista = list(np.arange(numero1,numero2+1))\n",
    "    resultado = np.sum(lista)\n",
    "    print('O somatorio de '+str(numero1)+ ' até '+str(numero2)+' é '+str(resultado))\n",
    "\n",
    "numero1 = int(input('Digite o primeiro numero '))\n",
    "numero2 = int(input('Digite o segundo numero numero '))\n",
    "if numero2 <= numero1:\n",
    "    print('O segundo número não pode ser menor que o primeiro número')\n",
    "else:\n",
    "    somatorio(numero1,numero2)"
   ]
  },
  {
   "cell_type": "code",
   "execution_count": 57,
   "metadata": {},
   "outputs": [
    {
     "name": "stdout",
     "output_type": "stream",
     "text": [
      "A Mediana do array é: 0.4967778215925224\n",
      "A Média do array é: 0.48534879111973994\n",
      "A Soma do array é: 48.53487911197399\n",
      "A Desvio Padrão do array é: 0.27497659243084727\n",
      "A Variância do array é: 0.0756121263848803\n"
     ]
    }
   ],
   "source": [
    "np.random.seed(10)\n",
    "arr = np.random.rand(100)\n",
    "mediana = np.median(arr)\n",
    "media = np.mean(arr)\n",
    "soma = np.sum(arr)\n",
    "desvio_padrao = np.std(arr)\n",
    "variancia = np.var(arr)\n",
    "print(\"A Mediana do array é:\"+str(mediana))\n",
    "print(\"A Média do array é:\"+str(media))\n",
    "print(\"A Soma do array é:\"+str(soma))\n",
    "print(\"A Desvio Padrão do array é:\"+str(desvio_padrao))\n",
    "print(\"A Variância do array é:\"+str(variancia))"
   ]
  }
 ],
 "metadata": {
  "kernelspec": {
   "display_name": "Python 3",
   "language": "python",
   "name": "python3"
  },
  "language_info": {
   "codemirror_mode": {
    "name": "ipython",
    "version": 3
   },
   "file_extension": ".py",
   "mimetype": "text/x-python",
   "name": "python",
   "nbconvert_exporter": "python",
   "pygments_lexer": "ipython3",
   "version": "3.11.6"
  }
 },
 "nbformat": 4,
 "nbformat_minor": 2
}
