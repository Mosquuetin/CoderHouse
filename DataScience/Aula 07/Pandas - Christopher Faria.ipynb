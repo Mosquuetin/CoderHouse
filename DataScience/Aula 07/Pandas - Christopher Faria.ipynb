{
 "cells": [
  {
   "cell_type": "code",
   "execution_count": 17,
   "metadata": {},
   "outputs": [],
   "source": [
    "import pandas as pd\n",
    "import numpy as np\n",
    "import glob"
   ]
  },
  {
   "cell_type": "code",
   "execution_count": 18,
   "metadata": {},
   "outputs": [
    {
     "name": "stdout",
     "output_type": "stream",
     "text": [
      "BD\\Summer-Olympic-medals-1976-to-2008.csv\n"
     ]
    }
   ],
   "source": [
    "#Pegando primeiro arquivo da pasta BD\n",
    "txt = glob.glob(\"BD//*csv*\")\n",
    "caminho = txt[0]\n",
    "print(caminho)"
   ]
  },
  {
   "cell_type": "code",
   "execution_count": 41,
   "metadata": {},
   "outputs": [
    {
     "name": "stdout",
     "output_type": "stream",
     "text": [
      "           City  Year      Sport       Discipline           Event  \\\n",
      "0      Montreal  1976   Aquatics           Diving  3m springboard   \n",
      "1      Montreal  1976   Aquatics           Diving  3m springboard   \n",
      "2      Montreal  1976   Aquatics           Diving  3m springboard   \n",
      "3      Montreal  1976   Aquatics           Diving  3m springboard   \n",
      "4      Montreal  1976   Aquatics           Diving    10m platform   \n",
      "...         ...   ...        ...              ...             ...   \n",
      "15428   Beijing  2008  Wrestling  Wrestling Gre-R       66 - 74kg   \n",
      "15429   Beijing  2008  Wrestling  Wrestling Gre-R       66 - 74kg   \n",
      "15430   Beijing  2008  Wrestling  Wrestling Gre-R       55 - 60kg   \n",
      "15431   Beijing  2008  Wrestling  Wrestling Gre-R       60 - 66kg   \n",
      "15432   Beijing  2008  Wrestling  Wrestling Gre-R      96 - 120kg   \n",
      "\n",
      "                        Athlete Gender Country_Code        Country  \\\n",
      "0               KÖHLER, Christa  Women          GDR   East Germany   \n",
      "1           KOSENKOV, Aleksandr    Men          URS   Soviet Union   \n",
      "2          BOGGS, Philip George    Men          USA  United States   \n",
      "3      CAGNOTTO, Giorgio Franco    Men          ITA          Italy   \n",
      "4        WILSON, Deborah Keplar  Women          USA  United States   \n",
      "...                         ...    ...          ...            ...   \n",
      "15428        GUENOT, Christophe    Men          FRA         France   \n",
      "15429       KVIRKELIA, Manuchar    Men          GEO        Georgia   \n",
      "15430          RAHIMOV, Vitaliy    Men          AZE     Azerbaijan   \n",
      "15431            GUENOT, Steeve    Men          FRA         France   \n",
      "15432             LOPEZ, Mijain    Men          CUB           Cuba   \n",
      "\n",
      "      Event_gender   Medal  \n",
      "0                W  Silver  \n",
      "1                M  Bronze  \n",
      "2                M    Gold  \n",
      "3                M  Silver  \n",
      "4                W  Bronze  \n",
      "...            ...     ...  \n",
      "15428            M  Bronze  \n",
      "15429            M    Gold  \n",
      "15430            M  Silver  \n",
      "15431            M    Gold  \n",
      "15432            M    Gold  \n",
      "\n",
      "[15316 rows x 11 columns]\n"
     ]
    }
   ],
   "source": [
    "#Lendo arquivo e ajustando NaN\n",
    "df = pd.read_csv(caminho, encoding='latin-1')\n",
    "df = df.fillna('deletar')\n",
    "df = df[df['City'] != 'deletar']\n",
    "df['Year'] = df['Year'].astype(int)\n",
    "print(df)"
   ]
  },
  {
   "cell_type": "code",
   "execution_count": 64,
   "metadata": {},
   "outputs": [
    {
     "name": "stdout",
     "output_type": "stream",
     "text": [
      "0                Christa\n",
      "1              Aleksandr\n",
      "2          Philip George\n",
      "3         Giorgio Franco\n",
      "4         Deborah Keplar\n",
      "              ...       \n",
      "15428         Christophe\n",
      "15429           Manuchar\n",
      "15430            Vitaliy\n",
      "15431             Steeve\n",
      "15432             Mijain\n",
      "Name: Athlete, Length: 15316, dtype: object\n",
      "0           Köhler\n",
      "1         Kosenkov\n",
      "2            Boggs\n",
      "3         Cagnotto\n",
      "4           Wilson\n",
      "           ...    \n",
      "15428       Guenot\n",
      "15429    Kvirkelia\n",
      "15430      Rahimov\n",
      "15431       Guenot\n",
      "15432        Lopez\n",
      "Name: Athlete, Length: 15316, dtype: object\n",
      "0                  Christa Köhler\n",
      "1              Aleksandr Kosenkov\n",
      "2             Philip George Boggs\n",
      "3         Giorgio Franco Cagnotto\n",
      "4           Deborah Keplar Wilson\n",
      "                   ...           \n",
      "15428           Christophe Guenot\n",
      "15429          Manuchar Kvirkelia\n",
      "15430             Vitaliy Rahimov\n",
      "15431               Steeve Guenot\n",
      "15432                Mijain Lopez\n",
      "Name: Athlete, Length: 15316, dtype: object\n"
     ]
    }
   ],
   "source": [
    "#Editando os nomes\n",
    "nomes_completos = df['Athlete'].str.split(',')\n",
    "nomes = nomes_completos.str.get(1)\n",
    "sobrenones = nomes_completos.str.get(0)\n",
    "sobrenones = sobrenones.str.title()\n",
    "nome_completo = nomes+' '+sobrenones\n",
    "print(nomes)\n",
    "print(sobrenones)\n",
    "print(nome_completo)\n"
   ]
  },
  {
   "cell_type": "code",
   "execution_count": 167,
   "metadata": {},
   "outputs": [
    {
     "name": "stdout",
     "output_type": "stream",
     "text": [
      "Medal          Bronze  Silver  Gold  Total\n",
      "Country                                   \n",
      "United States     481     583   928   1992\n",
      "Soviet Union      297     285   439   1021\n",
      "Australia         312     270   216    798\n",
      "Germany           278     176   237    691\n",
      "China             193     252   234    679\n",
      "...               ...     ...   ...    ...\n",
      "Panama              0       0     1      1\n",
      "Senegal             0       1     0      1\n",
      "Sri Lanka           0       1     0      1\n",
      "Sudan               0       1     0      1\n",
      "Macedonia           1       0     0      1\n",
      "\n",
      "[127 rows x 4 columns]\n"
     ]
    }
   ],
   "source": [
    "#Trabalhando as informações de moedas por pais\n",
    "df_paises = df[['Country','Medal']]\n",
    "df_paises.insert(2,'Quantidade',1)\n",
    "pivot_medals = pd.pivot_table(df_paises, index='Country', columns='Medal', values='Quantidade', fill_value=0, aggfunc='sum')\n",
    "df_pivot = pd.DataFrame(pivot_medals)\n",
    "df_pivot.insert(3,'Total',df_pivot['Bronze']+df_pivot['Gold']+df_pivot['Silver'])\n",
    "df_pivot = df_pivot[['Bronze','Silver','Gold','Total']]\n",
    "df_pivot = df_pivot.sort_values(by='Total', ascending=False)\n",
    "print(df_pivot)"
   ]
  },
  {
   "cell_type": "code",
   "execution_count": 168,
   "metadata": {},
   "outputs": [
    {
     "name": "stdout",
     "output_type": "stream",
     "text": [
      "Medal  Bronze  Silver  Gold  Total\n",
      "Year                              \n",
      "2000      386     370   370   1126\n",
      "2008      391     357   362   1110\n",
      "1992      391     356   358   1105\n",
      "2004      376     362   361   1099\n",
      "1996      374     352   356   1082\n",
      "1988      352     325   334   1011\n",
      "1984      338     315   320    973\n",
      "1980      328     313   317    958\n",
      "1976      321     301   302    924\n"
     ]
    }
   ],
   "source": [
    "#Trabalhando as informações de moedas masculinas\n",
    "df_gender = df[df['Gender'] == 'Men']\n",
    "df_gender = df_gender[['Gender','Year','Medal']]\n",
    "df_gender.insert(3,'Quantidade',1)\n",
    "pivot_medals = pd.pivot_table(df_gender, index='Year', columns=['Medal'], values='Quantidade', fill_value=0, aggfunc='sum')\n",
    "df_pivot = pd.DataFrame(pivot_medals)\n",
    "df_pivot.insert(3,'Total',df_pivot['Bronze']+df_pivot['Gold']+df_pivot['Silver'])\n",
    "df_pivot = df_pivot[['Bronze','Silver','Gold','Total']]\n",
    "df_pivot = df_pivot.sort_values(by='Total', ascending=False)\n",
    "print(df_pivot)"
   ]
  }
 ],
 "metadata": {
  "kernelspec": {
   "display_name": "Python 3",
   "language": "python",
   "name": "python3"
  },
  "language_info": {
   "codemirror_mode": {
    "name": "ipython",
    "version": 3
   },
   "file_extension": ".py",
   "mimetype": "text/x-python",
   "name": "python",
   "nbconvert_exporter": "python",
   "pygments_lexer": "ipython3",
   "version": "3.11.6"
  }
 },
 "nbformat": 4,
 "nbformat_minor": 2
}
