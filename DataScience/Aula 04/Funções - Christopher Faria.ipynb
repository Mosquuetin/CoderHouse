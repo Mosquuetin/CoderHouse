{
 "cells": [
  {
   "cell_type": "code",
   "execution_count": 3,
   "metadata": {},
   "outputs": [
    {
     "name": "stdout",
     "output_type": "stream",
     "text": [
      "O fatorial de 5 é 120\n"
     ]
    }
   ],
   "source": [
    "numero = int(input('Digite um numero '))\n",
    "def fatorial(numero):\n",
    "    lista = list(range(1,numero+1))\n",
    "    x=1\n",
    "    for n in lista:\n",
    "        x = x * n\n",
    "    print('O fatorial de '+str(numero)+' é '+str(x))\n",
    "    \n",
    "fatorial(numero)"
   ]
  },
  {
   "cell_type": "code",
   "execution_count": 10,
   "metadata": {},
   "outputs": [
    {
     "name": "stdout",
     "output_type": "stream",
     "text": [
      "O somatorio de 1 até 100 é 5050\n"
     ]
    }
   ],
   "source": [
    "def somatorio(numero1,numero2):\n",
    "    lista = list(range(numero1,numero2+1))\n",
    "    x=0\n",
    "    for n in lista:\n",
    "        x = x + n\n",
    "    print('O somatorio de '+str(numero1)+ ' até '+str(numero2)+' é '+str(x))\n",
    "\n",
    "numero1 = int(input('Digite o primeiro numero '))\n",
    "numero2 = int(input('Digite o segundo numero numero '))\n",
    "if numero2 <= numero1:\n",
    "    print('O segundo número não pode ser menor que o primeiro número')\n",
    "else:\n",
    "    somatorio(numero1,numero2)"
   ]
  }
 ],
 "metadata": {
  "kernelspec": {
   "display_name": "Python 3",
   "language": "python",
   "name": "python3"
  },
  "language_info": {
   "codemirror_mode": {
    "name": "ipython",
    "version": 3
   },
   "file_extension": ".py",
   "mimetype": "text/x-python",
   "name": "python",
   "nbconvert_exporter": "python",
   "pygments_lexer": "ipython3",
   "version": "3.11.6"
  },
  "orig_nbformat": 4
 },
 "nbformat": 4,
 "nbformat_minor": 2
}
